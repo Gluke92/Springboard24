{
 "cells": [
  {
   "cell_type": "code",
   "execution_count": 1,
   "id": "c02dfc75",
   "metadata": {},
   "outputs": [
    {
     "data": {
      "text/plain": [
       "7"
      ]
     },
     "execution_count": 1,
     "metadata": {},
     "output_type": "execute_result"
    }
   ],
   "source": [
    "#helo\n",
    "\n",
    "x = 3\n",
    "y = 4\n",
    "x + 4"
   ]
  },
  {
   "cell_type": "code",
   "execution_count": 2,
   "id": "99173237",
   "metadata": {},
   "outputs": [
    {
     "name": "stdout",
     "output_type": "stream",
     "text": [
      "10\n"
     ]
    }
   ],
   "source": [
    "print(x+x+y)"
   ]
  },
  {
   "cell_type": "code",
   "execution_count": null,
   "id": "ad21348d",
   "metadata": {},
   "outputs": [],
   "source": []
  }
 ],
 "metadata": {
  "kernelspec": {
   "display_name": "Python 3 (ipykernel)",
   "language": "python",
   "name": "python3"
  },
  "language_info": {
   "codemirror_mode": {
    "name": "ipython",
    "version": 3
   },
   "file_extension": ".py",
   "mimetype": "text/x-python",
   "name": "python",
   "nbconvert_exporter": "python",
   "pygments_lexer": "ipython3",
   "version": "3.11.5"
  }
 },
 "nbformat": 4,
 "nbformat_minor": 5
}
